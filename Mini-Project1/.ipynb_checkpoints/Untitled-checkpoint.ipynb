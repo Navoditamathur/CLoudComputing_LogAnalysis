{
 "cells": [
  {
   "cell_type": "code",
   "execution_count": 19,
   "id": "d9fb7acf",
   "metadata": {},
   "outputs": [
    {
     "name": "stdout",
     "output_type": "stream",
     "text": [
      "['13.66.139.0', '-', '-', '[19/Dec/2020:13:57:26', '+0100]']\n",
      "size\t32653\n"
     ]
    }
   ],
   "source": [
    "#!/usr/bin/env python\n",
    "\n",
    "import sys\n",
    "import re\n",
    "\n",
    "line = '13.66.139.0 - - [19/Dec/2020:13:57:26 +0100] \"GET /index.php?option=com_phocagallery&view=category&id=1:almhuette-raith&Itemid=53 HTTP/1.1\" 200 32653 \"-\" \"Mozilla/5.0 (compatible; bingbot/2.0; +http://www.bing.com/bingbot.htm)\" \"-\"'\n",
    "#!/usr/bin/env python\n",
    "import sys\n",
    "data = line.strip().split('\"')\n",
    "if len(data) > 2:\n",
    "    request = data[0].strip().split(' ')\n",
    "    print(request)\n",
    "    if len(request) > 4:\n",
    "        date_part = request[3].strip()\n",
    "        if date_part:  # Check if the list is not empty\n",
    "            date = date_part.strip('[')\n",
    "            if \"19/Dec/2020\" in date:\n",
    "                status = data[2].strip().split(' ')\n",
    "                if len(status) > 1:\n",
    "                    size = status[1].strip()\n",
    "                    print(\"size\\t\" + size)\n",
    "\n",
    "   \n"
   ]
  },
  {
   "cell_type": "code",
   "execution_count": 12,
   "id": "dd2c5c6f",
   "metadata": {},
   "outputs": [
    {
     "name": "stdout",
     "output_type": "stream",
     "text": [
      "['13.66.139.0 - - [19/Dec/2020:13:57:26 +0100] ', 'GET /index.php?option=com_phocagallery&view=category&id=1:almhuette-raith&Itemid=53 HTTP/1.1', ' 200 32653 ', '-', ' ', 'Mozilla/5.0 (compatible; bingbot/2.0; +http://www.bing.com/bingbot.htm)', ' ', '-', '']\n"
     ]
    }
   ],
   "source": [
    "line = '13.66.139.0 - - [19/Dec/2020:13:57:26 +0100] \"GET /index.php?option=com_phocagallery&view=category&id=1:almhuette-raith&Itemid=53 HTTP/1.1\" 200 32653 \"-\" \"Mozilla/5.0 (compatible; bingbot/2.0; +http://www.bing.com/bingbot.htm)\" \"-\"'\n",
    "data = line.strip().split('\"')\n",
    "print(data)"
   ]
  },
  {
   "cell_type": "code",
   "execution_count": null,
   "id": "13b36654",
   "metadata": {},
   "outputs": [],
   "source": [
    "#!/usr/bin/env python\n",
    "\n",
    "import sys\n",
    "\n",
    "current_path = None\n",
    "current_count = 0\n",
    "\n",
    "for line in sys.stdin:\n",
    "    path, count = line.strip().split('\\t')\n",
    "\n",
    "    # Convert count to integer\n",
    "    count = int(count)\n",
    "\n",
    "    # If the path is the same as the current path, increment the count\n",
    "    if path == current_path:\n",
    "        current_count += count\n",
    "    # Otherwise, if there is a current path, print the result\n",
    "    else:\n",
    "        if current_path:\n",
    "            print(f'{current_path}\\t{current_count}')\n",
    "        current_path = path\n",
    "        current_count = count\n",
    "\n",
    "# Print the last result\n",
    "if current_path:\n",
    "    print(f'{current_path}\\t{current_count}')\n"
   ]
  },
  {
   "cell_type": "code",
   "execution_count": 8,
   "id": "cd83ff98",
   "metadata": {},
   "outputs": [
    {
     "name": "stdout",
     "output_type": "stream",
     "text": [
      "/index.php?option=com_phocagallery&view=category&id=1:almhuette-raith&Itemid=53\n"
     ]
    }
   ],
   "source": [
    "line = '13.66.139.0 - - [19/Dec/2020:13:57:26 +0100] \"GET /index.php?option=com_phocagallery&view=category&id=1:almhuette-raith&Itemid=53 HTTP/1.1\" 200 32653 \"-\" \"Mozilla/5.0 (compatible; bingbot/2.0; +http://www.bing.com/bingbot.htm)\" \"-\"'\n",
    "request_line = re.findall(r'\"([^\"]*)\"', line)[0]\n",
    "path = request_line.split(' ')[1]\n",
    "# Check if the path contains the specified directory\n",
    "if '/images/smilies/' in path:\n",
    "    print(f'{path}\\t1')"
   ]
  },
  {
   "cell_type": "code",
   "execution_count": 1,
   "id": "c6ddcc18",
   "metadata": {},
   "outputs": [
    {
     "name": "stdout",
     "output_type": "stream",
     "text": [
      "['13.66.139.0 - - [19/Dec/2020:13:57:26 +0100] \"GET /index.php?option=com_phocagallery&view=category&id=1:almhuette-raith&Itemid=53 HTTP/1.1\" 200 32653 \"-\" \"Mozilla/5.0 (compatible; bingbot/2.0; +http://www.bing.com/bingbot.htm)\" \"-\"']\n"
     ]
    }
   ],
   "source": [
    "log_entry = '13.66.139.0 - - [19/Dec/2020:13:57:26 +0100] \"GET /index.php?option=com_phocagallery&view=category&id=1:almhuette-raith&Itemid=53 HTTP/1.1\" 200 32653 \"-\" \"Mozilla/5.0 (compatible; bingbot/2.0; +http://www.bing.com/bingbot.htm)\" \"-\"'\n",
    "components = log_entry.split('\\t')\n",
    "print(components)"
   ]
  },
  {
   "cell_type": "code",
   "execution_count": 3,
   "id": "cfbf0096",
   "metadata": {},
   "outputs": [
    {
     "name": "stdout",
     "output_type": "stream",
     "text": [
      "['GET /index.php?option=com_phocagallery&view=category&id=1:almhuette-raith&Itemid=53 HTTP/1.1', '-', 'Mozilla/5.0 (compatible; bingbot/2.0; +http://www.bing.com/bingbot.htm)', '-']\n"
     ]
    }
   ],
   "source": [
    "import re\n",
    "\n",
    "log_entry = '13.66.139.0 - - [19/Dec/2020:13:57:26 +0100] \"GET /index.php?option=com_phocagallery&view=category&id=1:almhuette-raith&Itemid=53 HTTP/1.1\" 200 32653 \"-\" \"Mozilla/5.0 (compatible; bingbot/2.0; +http://www.bing.com/bingbot.htm)\" \"-\"'\n",
    "request_line = re.findall(r'\"([^\"]*)\"', log_entry)\n",
    "print(request_line)\n"
   ]
  },
  {
   "cell_type": "code",
   "execution_count": 20,
   "id": "bfcb3b65",
   "metadata": {},
   "outputs": [
    {
     "name": "stdout",
     "output_type": "stream",
     "text": [
      "13.66.139.0 \"-\"\n"
     ]
    }
   ],
   "source": [
    "data = line.strip().split(' ')\n",
    "ip = data[0]\n",
    "size = data[-1]\n",
    "print(ip, size)"
   ]
  },
  {
   "cell_type": "code",
   "execution_count": 21,
   "id": "fc2f65ba",
   "metadata": {},
   "outputs": [
    {
     "data": {
      "text/plain": [
       "['13.66.139.0',\n",
       " '-',\n",
       " '-',\n",
       " '[19/Dec/2020:13:57:26',\n",
       " '+0100]',\n",
       " '\"GET',\n",
       " '/index.php?option=com_phocagallery&view=category&id=1:almhuette-raith&Itemid=53',\n",
       " 'HTTP/1.1\"',\n",
       " '200',\n",
       " '32653',\n",
       " '\"-\"',\n",
       " '\"Mozilla/5.0',\n",
       " '(compatible;',\n",
       " 'bingbot/2.0;',\n",
       " '+http://www.bing.com/bingbot.htm)\"',\n",
       " '\"-\"']"
      ]
     },
     "execution_count": 21,
     "metadata": {},
     "output_type": "execute_result"
    }
   ],
   "source": [
    "data"
   ]
  },
  {
   "cell_type": "code",
   "execution_count": 30,
   "id": "e4376317",
   "metadata": {},
   "outputs": [
    {
     "name": "stdout",
     "output_type": "stream",
     "text": [
      "['200', '32653']\n",
      "13.66.139.0\t32653\n"
     ]
    }
   ],
   "source": [
    "data = line.strip().split('\"')\n",
    "if len(data) > 2:\n",
    "    ip_part = data[0].strip().split(' ')\n",
    "    if len(ip_part) > 1:\n",
    "        ip = ip_part[0]\n",
    "        status = data[2].strip().split(' ')\n",
    "        print(status)\n",
    "        if len(status) > 1:\n",
    "            size = status[1].strip()\n",
    "            print(ip +\"\\t\"+ size)\n",
    "            "
   ]
  },
  {
   "cell_type": "code",
   "execution_count": 29,
   "id": "161b194f",
   "metadata": {},
   "outputs": [
    {
     "ename": "ValueError",
     "evalue": "invalid literal for int() with base 10: '\"-\"'",
     "output_type": "error",
     "traceback": [
      "\u001b[0;31m---------------------------------------------------------------------------\u001b[0m",
      "\u001b[0;31mValueError\u001b[0m                                Traceback (most recent call last)",
      "Cell \u001b[0;32mIn[29], line 5\u001b[0m\n\u001b[1;32m      2\u001b[0m ip \u001b[38;5;241m=\u001b[39m line[:ip_end_index]\n\u001b[1;32m      4\u001b[0m size_start_index \u001b[38;5;241m=\u001b[39m line\u001b[38;5;241m.\u001b[39mrfind(\u001b[38;5;124m'\u001b[39m\u001b[38;5;124m \u001b[39m\u001b[38;5;124m'\u001b[39m) \u001b[38;5;241m+\u001b[39m \u001b[38;5;241m1\u001b[39m\n\u001b[0;32m----> 5\u001b[0m size \u001b[38;5;241m=\u001b[39m \u001b[38;5;28mint\u001b[39m(line[size_start_index:]\u001b[38;5;241m.\u001b[39mstrip(\u001b[38;5;124m\"\u001b[39m\u001b[38;5;124m-\u001b[39m\u001b[38;5;124m\"\u001b[39m))\n\u001b[1;32m      7\u001b[0m \u001b[38;5;28mprint\u001b[39m(ip, size)\n",
      "\u001b[0;31mValueError\u001b[0m: invalid literal for int() with base 10: '\"-\"'"
     ]
    }
   ],
   "source": [
    "ip_end_index = line.find(' ')\n",
    "ip = line[:ip_end_index]\n",
    "   \n",
    "size_start_index = line.rfind(' ') + 1\n",
    "size = int(line[size_start_index:].strip(\"-\"))\n",
    "   \n",
    "print(ip, size)"
   ]
  },
  {
   "cell_type": "code",
   "execution_count": 1,
   "id": "780adc7d",
   "metadata": {},
   "outputs": [],
   "source": [
    "line = '13.66.139.0 - - [16/Jan/2022:13:57:26 +0100] \"GET /index.php?option=com_phocagallery&view=category&id=1:almhuette-raith&Itemid=53 HTTP/1.1\" 200 32653 \"-\" \"Mozilla/5.0 (compatible; bingbot/2.0; +http://www.bing.com/bingbot.htm)\" \"-\"'\n",
    "#!/usr/bin/env python\n",
    "import sys\n",
    "data = line.strip().split('\"')\n",
    "if len(data) > 2:\n",
    "    request = data[0].strip().split(' ')\n",
    "    if len(request) > 4:\n",
    "        date_part = request[3].strip()\n",
    "        if date_part:\n",
    "            date = date_part.strip('[')\n",
    "            status_part = data[2].strip().split(' ')\n",
    "            if len(status_part) > 1:\n",
    "                status = status_part[0].strip()\n",
    "                size = status_part[1].strip()\n",
    "                if \"16/Jan/2022\" in date and status == \"200\":\n",
    "                    print(\"size\\t\" + size)"
   ]
  },
  {
   "cell_type": "code",
   "execution_count": null,
   "id": "7f0eb548",
   "metadata": {},
   "outputs": [],
   "source": []
  }
 ],
 "metadata": {
  "kernelspec": {
   "display_name": "Python 3 (ipykernel)",
   "language": "python",
   "name": "python3"
  },
  "language_info": {
   "codemirror_mode": {
    "name": "ipython",
    "version": 3
   },
   "file_extension": ".py",
   "mimetype": "text/x-python",
   "name": "python",
   "nbconvert_exporter": "python",
   "pygments_lexer": "ipython3",
   "version": "3.11.5"
  }
 },
 "nbformat": 4,
 "nbformat_minor": 5
}
