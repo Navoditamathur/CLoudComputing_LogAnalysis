{
 "cells": [
  {
   "cell_type": "code",
   "execution_count": 6,
   "id": "2b8cb366",
   "metadata": {},
   "outputs": [],
   "source": [
    "import csv\n",
    "#import uuid\n",
    "from datetime import datetime\n",
    "\n",
    "count= 0\n",
    "\n",
    "# Open the log file and CSV file for reading and writing respectively\n",
    "with open('resized_log', 'r') as log_file, open('access_logs.csv', 'w+', newline='', encoding='utf8') as csv_file:\n",
    "    csv_writer = csv.writer(csv_file)\n",
    "\n",
    "    # Write header row to CSV file\n",
    "    csv_writer.writerow(['log_id','ip_ddress', 'path', 'protocol','request_method', 'request_timestamp', 'response_code', 'size', 'user_agent'])\n",
    "\n",
    "    # Iterate through each line of the log file\n",
    "    for line in log_file:\n",
    "        # Split the log line into its components\n",
    "        parts = line.split()\n",
    "        # Extract necessary information from the log line\n",
    "        ip_address = parts[0]\n",
    "        date_str = parts[3][1:] + \" \" + parts[4][:-1]  # Concatenate date and time strings\n",
    "        date = datetime.strptime(date_str, '%d/%b/%Y:%H:%M:%S %z').strftime('%Y-%m-%dT%H:%M:%S %z')  # Parse date string to datetime\n",
    "        method = parts[5][1:]  # Remove quotes around method\n",
    "        path = parts[6]\n",
    "        path = path.replace(',', ' ')\n",
    "        protocol = parts[7][:-1]  # Remove the trailing quotation mark\n",
    "        status = parts[8]\n",
    "        bytes_sent = 0 if parts[9] == '-' else int(parts[9])\n",
    "        user_agent_str = parts[11][1:] # Prepare the user agent string\n",
    "        if len(parts) > 12:\n",
    "            for i in range(12,len(parts)-1):\n",
    "                if parts[i] and parts[i] != '\"-\"':\n",
    "                    user_agent_str += ' ' + parts[i]\n",
    "        user_agent = user_agent_str if parts[10] == '\"-\"' else parts[10][1:-1] + \" \" + user_agent_str\n",
    "        user_agent = user_agent.replace(',', ' ')\n",
    "        user_agent = user_agent.replace('\\\\', '')\n",
    "        user_agent = user_agent.replace('\"', '')  \n",
    "        count+=1  \n",
    "        csv_writer.writerow([count, ip_address, path, protocol, method, date, status, bytes_sent, user_agent])"
   ]
  },
  {
   "cell_type": "code",
   "execution_count": 7,
   "id": "1ed75f18",
   "metadata": {},
   "outputs": [
    {
     "name": "stdout",
     "output_type": "stream",
     "text": [
      "5000 records processed!!\n"
     ]
    }
   ],
   "source": [
    "print(str(count) +\" records processed!!\")"
   ]
  }
 ],
 "metadata": {
  "kernelspec": {
   "display_name": "Python 3 (ipykernel)",
   "language": "python",
   "name": "python3"
  },
  "language_info": {
   "codemirror_mode": {
    "name": "ipython",
    "version": 3
   },
   "file_extension": ".py",
   "mimetype": "text/x-python",
   "name": "python",
   "nbconvert_exporter": "python",
   "pygments_lexer": "ipython3",
   "version": "3.11.5"
  }
 },
 "nbformat": 4,
 "nbformat_minor": 5
}
